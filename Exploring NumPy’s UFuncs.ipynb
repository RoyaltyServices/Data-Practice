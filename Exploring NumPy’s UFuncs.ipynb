{
 "cells": [
  {
   "cell_type": "markdown",
   "id": "a0b6a639",
   "metadata": {},
   "source": [
    "# Exploring NumPy’s UFuncs"
   ]
  },
  {
   "cell_type": "markdown",
   "id": "4f2b32ae",
   "metadata": {},
   "source": [
    "### Array arithmetic"
   ]
  },
  {
   "cell_type": "code",
   "execution_count": 1,
   "id": "1c33dd83",
   "metadata": {},
   "outputs": [],
   "source": [
    "import numpy as np"
   ]
  },
  {
   "cell_type": "code",
   "execution_count": 2,
   "id": "4233e655",
   "metadata": {},
   "outputs": [
    {
     "name": "stdout",
     "output_type": "stream",
     "text": [
      "x = [0 1 2 3]\n",
      "x + 5 = [5 6 7 8]\n",
      "x - 5 = [-5 -4 -3 -2]\n",
      "x * 2 = [0 2 4 6]\n"
     ]
    }
   ],
   "source": [
    "x = np.arange(4)\n",
    "print(\"x =\", x)\n",
    "print(\"x + 5 =\", x + 5)\n",
    "print(\"x - 5 =\", x - 5)\n",
    "print(\"x * 2 =\", x * 2)"
   ]
  },
  {
   "cell_type": "code",
   "execution_count": 3,
   "id": "06c4cb8a",
   "metadata": {},
   "outputs": [
    {
     "name": "stdout",
     "output_type": "stream",
     "text": [
      "x / 2 = [0.  0.5 1.  1.5]\n",
      "x // 2 = [0 0 1 1]\n"
     ]
    }
   ],
   "source": [
    "print(\"x / 2 =\", x / 2)\n",
    "print(\"x // 2 =\", x // 2) ## floor division"
   ]
  },
  {
   "cell_type": "code",
   "execution_count": 4,
   "id": "a4c61470",
   "metadata": {},
   "outputs": [
    {
     "name": "stdout",
     "output_type": "stream",
     "text": [
      "-x =  [ 0 -1 -2 -3]\n",
      "x ** 2 =  [0 1 4 9]\n",
      "x % 2 =  [0 1 0 1]\n"
     ]
    }
   ],
   "source": [
    "print(\"-x = \", -x)\n",
    "print(\"x ** 2 = \", x ** 2)\n",
    "print(\"x % 2 = \", x % 2)"
   ]
  },
  {
   "cell_type": "code",
   "execution_count": 5,
   "id": "9d1903b5",
   "metadata": {},
   "outputs": [
    {
     "data": {
      "text/plain": [
       "array([-1.  , -2.25, -4.  , -6.25])"
      ]
     },
     "execution_count": 5,
     "metadata": {},
     "output_type": "execute_result"
    }
   ],
   "source": [
    "-(0.5*x + 1) ** 2"
   ]
  },
  {
   "cell_type": "code",
   "execution_count": 10,
   "id": "83a0349f",
   "metadata": {},
   "outputs": [
    {
     "name": "stdout",
     "output_type": "stream",
     "text": [
      "-x =  [ 0 -1 -2 -3]\n"
     ]
    }
   ],
   "source": [
    "## ufunc negation\n",
    "\n",
    "print(\"-x = \", -x)"
   ]
  },
  {
   "cell_type": "code",
   "execution_count": 11,
   "id": "980e95a3",
   "metadata": {},
   "outputs": [
    {
     "name": "stdout",
     "output_type": "stream",
     "text": [
      "x ** 2 =  [0 1 4 9]\n"
     ]
    }
   ],
   "source": [
    "## x raise to power 2\n",
    "\n",
    "print(\"x ** 2 = \", x ** 2)"
   ]
  },
  {
   "cell_type": "code",
   "execution_count": 13,
   "id": "94eaf41a",
   "metadata": {},
   "outputs": [
    {
     "name": "stdout",
     "output_type": "stream",
     "text": [
      "x % 2 =  [0 1 0 1]\n"
     ]
    }
   ],
   "source": [
    "## modulus\n",
    "\n",
    "print(\"x % 2 = \", x % 2)"
   ]
  },
  {
   "cell_type": "code",
   "execution_count": 14,
   "id": "96304702",
   "metadata": {},
   "outputs": [
    {
     "data": {
      "text/plain": [
       "array([-1.  , -2.25, -4.  , -6.25])"
      ]
     },
     "execution_count": 14,
     "metadata": {},
     "output_type": "execute_result"
    }
   ],
   "source": [
    "## standard order maintained\n",
    "\n",
    "-(0.5*x + 1) ** 2"
   ]
  },
  {
   "cell_type": "markdown",
   "id": "c5de5577",
   "metadata": {},
   "source": [
    "## operators in numpy\n",
    "\n",
    "- \\+ np.add Addition (e.g., 1 + 1 = 2)\n",
    "- \\- np.subtract Subtraction (e.g., 3 - 2 = 1)\n",
    "- \\- np.negative Unary negation (e.g., -2)\n",
    "- \\* np.multiply Multiplication (e.g., 2 * 3 = 6)\n",
    "- / np.divide Division (e.g., 3 / 2 = 1.5)\n",
    "- // np.floor_divide Floor division (e.g., 3 // 2 = 1)\n",
    "- ** np.power Exponentiation (e.g., 2 ** 3 = 8)\n",
    "- % np.mod Modulus/remainder (e.g., 9 % 4 = 1)"
   ]
  },
  {
   "cell_type": "code",
   "execution_count": 15,
   "id": "7914ef4d",
   "metadata": {},
   "outputs": [
    {
     "data": {
      "text/plain": [
       "array([0, 1, 2, 3])"
      ]
     },
     "execution_count": 15,
     "metadata": {},
     "output_type": "execute_result"
    }
   ],
   "source": [
    "x"
   ]
  },
  {
   "cell_type": "code",
   "execution_count": 16,
   "id": "51128408",
   "metadata": {},
   "outputs": [
    {
     "data": {
      "text/plain": [
       "array([2, 3, 4, 5])"
      ]
     },
     "execution_count": 16,
     "metadata": {},
     "output_type": "execute_result"
    }
   ],
   "source": [
    "np.add(x, 2) ## add 2 to x"
   ]
  },
  {
   "cell_type": "code",
   "execution_count": 17,
   "id": "290a6723",
   "metadata": {},
   "outputs": [
    {
     "data": {
      "text/plain": [
       "array([-1,  0,  1,  2])"
      ]
     },
     "execution_count": 17,
     "metadata": {},
     "output_type": "execute_result"
    }
   ],
   "source": [
    "np.subtract(x, 1) ## subtract 1 from x"
   ]
  },
  {
   "cell_type": "code",
   "execution_count": 18,
   "id": "b01122f2",
   "metadata": {},
   "outputs": [
    {
     "data": {
      "text/plain": [
       "array([0, 2, 4, 6])"
      ]
     },
     "execution_count": 18,
     "metadata": {},
     "output_type": "execute_result"
    }
   ],
   "source": [
    "np.multiply(x, 2)"
   ]
  },
  {
   "cell_type": "code",
   "execution_count": 19,
   "id": "39a13b16",
   "metadata": {},
   "outputs": [
    {
     "data": {
      "text/plain": [
       "array([0.        , 0.33333333, 0.66666667, 1.        ])"
      ]
     },
     "execution_count": 19,
     "metadata": {},
     "output_type": "execute_result"
    }
   ],
   "source": [
    "np.divide(x, 3)"
   ]
  },
  {
   "cell_type": "code",
   "execution_count": 20,
   "id": "a271708d",
   "metadata": {},
   "outputs": [
    {
     "data": {
      "text/plain": [
       "array([ 0,  1,  8, 27], dtype=int32)"
      ]
     },
     "execution_count": 20,
     "metadata": {},
     "output_type": "execute_result"
    }
   ],
   "source": [
    "np.power(x, 3)"
   ]
  },
  {
   "cell_type": "markdown",
   "id": "0fc60a7f",
   "metadata": {},
   "source": [
    "## Absolute values"
   ]
  },
  {
   "cell_type": "code",
   "execution_count": 21,
   "id": "17fee73d",
   "metadata": {},
   "outputs": [],
   "source": [
    "y = np.array([-2,-1,0,1,2])"
   ]
  },
  {
   "cell_type": "code",
   "execution_count": 22,
   "id": "1b1025ee",
   "metadata": {},
   "outputs": [
    {
     "data": {
      "text/plain": [
       "array([-2, -1,  0,  1,  2])"
      ]
     },
     "execution_count": 22,
     "metadata": {},
     "output_type": "execute_result"
    }
   ],
   "source": [
    "y\n"
   ]
  },
  {
   "cell_type": "code",
   "execution_count": 23,
   "id": "fd1a3210",
   "metadata": {},
   "outputs": [
    {
     "data": {
      "text/plain": [
       "array([2, 1, 0, 1, 2])"
      ]
     },
     "execution_count": 23,
     "metadata": {},
     "output_type": "execute_result"
    }
   ],
   "source": [
    "abs(y)"
   ]
  },
  {
   "cell_type": "code",
   "execution_count": 24,
   "id": "ac54b76e",
   "metadata": {},
   "outputs": [
    {
     "data": {
      "text/plain": [
       "array([2, 1, 0, 1, 2])"
      ]
     },
     "execution_count": 24,
     "metadata": {},
     "output_type": "execute_result"
    }
   ],
   "source": [
    "## np \n",
    "\n",
    "np.absolute(y)"
   ]
  },
  {
   "cell_type": "code",
   "execution_count": 25,
   "id": "73fa8845",
   "metadata": {},
   "outputs": [
    {
     "data": {
      "text/plain": [
       "array([2, 1, 0, 1, 2])"
      ]
     },
     "execution_count": 25,
     "metadata": {},
     "output_type": "execute_result"
    }
   ],
   "source": [
    "## or\n",
    "\n",
    "np.abs(y)"
   ]
  },
  {
   "cell_type": "code",
   "execution_count": 26,
   "id": "cc2390e4",
   "metadata": {},
   "outputs": [],
   "source": [
    "x = np.array([3 - 4j, 4 - 3j, 2 + 0j, 0 + 1j])"
   ]
  },
  {
   "cell_type": "code",
   "execution_count": 27,
   "id": "03f7045a",
   "metadata": {},
   "outputs": [
    {
     "data": {
      "text/plain": [
       "array([5., 5., 2., 1.])"
      ]
     },
     "execution_count": 27,
     "metadata": {},
     "output_type": "execute_result"
    }
   ],
   "source": [
    "np.abs(x)"
   ]
  },
  {
   "cell_type": "markdown",
   "id": "99dc5a62",
   "metadata": {},
   "source": [
    "## Trigonometry Functions"
   ]
  },
  {
   "cell_type": "code",
   "execution_count": 28,
   "id": "2202bb76",
   "metadata": {},
   "outputs": [],
   "source": [
    "theta = np.linspace(0, np.pi, 3)"
   ]
  },
  {
   "cell_type": "code",
   "execution_count": 29,
   "id": "ac24fe6c",
   "metadata": {},
   "outputs": [
    {
     "name": "stdout",
     "output_type": "stream",
     "text": [
      "theta = [0.         1.57079633 3.14159265]\n"
     ]
    }
   ],
   "source": [
    "print(\"theta =\", theta)"
   ]
  },
  {
   "cell_type": "code",
   "execution_count": 30,
   "id": "579af685",
   "metadata": {},
   "outputs": [],
   "source": [
    "np.linspace?"
   ]
  },
  {
   "cell_type": "code",
   "execution_count": 31,
   "id": "62841d47",
   "metadata": {},
   "outputs": [],
   "source": [
    "np.pi?"
   ]
  },
  {
   "cell_type": "code",
   "execution_count": 32,
   "id": "98ac0143",
   "metadata": {},
   "outputs": [
    {
     "name": "stdout",
     "output_type": "stream",
     "text": [
      "sin(theta) =  [0.0000000e+00 1.0000000e+00 1.2246468e-16]\n"
     ]
    }
   ],
   "source": [
    "print(\"sin(theta) = \", np.sin(theta))"
   ]
  },
  {
   "cell_type": "code",
   "execution_count": 33,
   "id": "d433ddf1",
   "metadata": {},
   "outputs": [
    {
     "name": "stdout",
     "output_type": "stream",
     "text": [
      "cos(theta) =  [ 1.000000e+00  6.123234e-17 -1.000000e+00]\n"
     ]
    }
   ],
   "source": [
    "print(\"cos(theta) = \", np.cos(theta))"
   ]
  },
  {
   "cell_type": "code",
   "execution_count": 34,
   "id": "24a16c7f",
   "metadata": {},
   "outputs": [
    {
     "name": "stdout",
     "output_type": "stream",
     "text": [
      "tan(theta) =  [ 0.00000000e+00  1.63312394e+16 -1.22464680e-16]\n"
     ]
    }
   ],
   "source": [
    "print(\"tan(theta) = \", np.tan(theta))"
   ]
  },
  {
   "cell_type": "code",
   "execution_count": 35,
   "id": "118955fd",
   "metadata": {},
   "outputs": [
    {
     "name": "stdout",
     "output_type": "stream",
     "text": [
      "x =  [-1, 0, 1]\n"
     ]
    }
   ],
   "source": [
    "## Inverse trig\n",
    "\n",
    "x = [-1, 0, 1]\n",
    "print(\"x = \", x)"
   ]
  },
  {
   "cell_type": "code",
   "execution_count": 36,
   "id": "87e42a38",
   "metadata": {},
   "outputs": [
    {
     "name": "stdout",
     "output_type": "stream",
     "text": [
      "arcsin(x) =  [-1.57079633  0.          1.57079633]\n"
     ]
    }
   ],
   "source": [
    "print(\"arcsin(x) = \", np.arcsin(x))"
   ]
  },
  {
   "cell_type": "code",
   "execution_count": 37,
   "id": "93f81c56",
   "metadata": {},
   "outputs": [
    {
     "name": "stdout",
     "output_type": "stream",
     "text": [
      "arccos(x) =  [3.14159265 1.57079633 0.        ]\n"
     ]
    }
   ],
   "source": [
    "print(\"arccos(x) = \", np.arccos(x))"
   ]
  },
  {
   "cell_type": "code",
   "execution_count": 38,
   "id": "3c3e8bac",
   "metadata": {},
   "outputs": [
    {
     "name": "stdout",
     "output_type": "stream",
     "text": [
      "arctan(x) =  [-0.78539816  0.          0.78539816]\n"
     ]
    }
   ],
   "source": [
    "print(\"arctan(x) = \", np.arctan(x))"
   ]
  },
  {
   "cell_type": "code",
   "execution_count": 39,
   "id": "d4687314",
   "metadata": {},
   "outputs": [
    {
     "name": "stdout",
     "output_type": "stream",
     "text": [
      "x = [1, 2, 3]\n"
     ]
    }
   ],
   "source": [
    "## Exponents and logarithms\n",
    "\n",
    "x = [1, 2, 3]\n",
    "print(\"x =\", x)"
   ]
  },
  {
   "cell_type": "code",
   "execution_count": 40,
   "id": "bf8adae6",
   "metadata": {},
   "outputs": [
    {
     "name": "stdout",
     "output_type": "stream",
     "text": [
      "e^x = [ 2.71828183  7.3890561  20.08553692]\n"
     ]
    }
   ],
   "source": [
    "print(\"e^x =\", np.exp(x))"
   ]
  },
  {
   "cell_type": "code",
   "execution_count": 41,
   "id": "b7f21a61",
   "metadata": {},
   "outputs": [
    {
     "name": "stdout",
     "output_type": "stream",
     "text": [
      "2^x = [2. 4. 8.]\n"
     ]
    }
   ],
   "source": [
    "print(\"2^x =\", np.exp2(x))"
   ]
  },
  {
   "cell_type": "code",
   "execution_count": 42,
   "id": "8e7661b6",
   "metadata": {},
   "outputs": [
    {
     "name": "stdout",
     "output_type": "stream",
     "text": [
      "3^x = [ 3  9 27]\n"
     ]
    }
   ],
   "source": [
    "print(\"3^x =\", np.power(3, x))"
   ]
  },
  {
   "cell_type": "code",
   "execution_count": 43,
   "id": "fdef5301",
   "metadata": {},
   "outputs": [
    {
     "name": "stdout",
     "output_type": "stream",
     "text": [
      "4^x = [ 4 16 64]\n"
     ]
    }
   ],
   "source": [
    "print(\"4^x =\", np.power(4, x))"
   ]
  },
  {
   "cell_type": "code",
   "execution_count": 44,
   "id": "02a5617e",
   "metadata": {},
   "outputs": [
    {
     "name": "stdout",
     "output_type": "stream",
     "text": [
      "2^x = [2 4 8]\n"
     ]
    }
   ],
   "source": [
    "print(\"2^x =\", np.power(2, x))"
   ]
  },
  {
   "cell_type": "code",
   "execution_count": 45,
   "id": "be846698",
   "metadata": {},
   "outputs": [
    {
     "name": "stdout",
     "output_type": "stream",
     "text": [
      "1^x = [1 1 1]\n"
     ]
    }
   ],
   "source": [
    "print(\"1^x =\", np.power(1, x))"
   ]
  },
  {
   "cell_type": "code",
   "execution_count": 46,
   "id": "404f5372",
   "metadata": {},
   "outputs": [
    {
     "name": "stdout",
     "output_type": "stream",
     "text": [
      "x = [1, 2, 4, 10]\n"
     ]
    }
   ],
   "source": [
    "## inverse of the exponentials, the logarithms, are also available.\n",
    "\n",
    "x = [1, 2, 4, 10]\n",
    "print(\"x =\", x)"
   ]
  },
  {
   "cell_type": "code",
   "execution_count": 47,
   "id": "d10e0a8c",
   "metadata": {},
   "outputs": [
    {
     "name": "stdout",
     "output_type": "stream",
     "text": [
      "ln(x) = [0.         0.69314718 1.38629436 2.30258509]\n"
     ]
    }
   ],
   "source": [
    "print(\"ln(x) =\", np.log(x))"
   ]
  },
  {
   "cell_type": "code",
   "execution_count": 48,
   "id": "8cbf6978",
   "metadata": {},
   "outputs": [
    {
     "name": "stdout",
     "output_type": "stream",
     "text": [
      "log2(x) = [0.         1.         2.         3.32192809]\n"
     ]
    }
   ],
   "source": [
    "print(\"log2(x) =\", np.log2(x))"
   ]
  },
  {
   "cell_type": "code",
   "execution_count": 49,
   "id": "73ae0895",
   "metadata": {},
   "outputs": [
    {
     "name": "stdout",
     "output_type": "stream",
     "text": [
      "log10(x) = [0.         0.30103    0.60205999 1.        ]\n"
     ]
    }
   ],
   "source": [
    "print(\"log10(x) =\", np.log10(x))"
   ]
  },
  {
   "cell_type": "code",
   "execution_count": 50,
   "id": "779351d3",
   "metadata": {},
   "outputs": [
    {
     "name": "stdout",
     "output_type": "stream",
     "text": [
      "exp(x) - 1 = [0.         0.0010005  0.01005017 0.10517092]\n",
      "log(1 + x) = [0.         0.0009995  0.00995033 0.09531018]\n"
     ]
    }
   ],
   "source": [
    "## specialized versions that are useful for maintaining precision\n",
    "## with very small input:\n",
    "\n",
    "x = [0, 0.001, 0.01, 0.1]\n",
    "print(\"exp(x) - 1 =\", np.expm1(x))\n",
    "print(\"log(1 + x) =\", np.log1p(x))"
   ]
  },
  {
   "cell_type": "code",
   "execution_count": null,
   "id": "cfe7fbbb",
   "metadata": {},
   "outputs": [],
   "source": []
  }
 ],
 "metadata": {
  "kernelspec": {
   "display_name": "Python 3 (ipykernel)",
   "language": "python",
   "name": "python3"
  },
  "language_info": {
   "codemirror_mode": {
    "name": "ipython",
    "version": 3
   },
   "file_extension": ".py",
   "mimetype": "text/x-python",
   "name": "python",
   "nbconvert_exporter": "python",
   "pygments_lexer": "ipython3",
   "version": "3.9.7"
  }
 },
 "nbformat": 4,
 "nbformat_minor": 5
}
