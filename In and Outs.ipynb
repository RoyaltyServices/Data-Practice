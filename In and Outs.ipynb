{
 "cells": [
  {
   "cell_type": "markdown",
   "id": "ef239a53",
   "metadata": {},
   "source": [
    "# Python In and Outs"
   ]
  },
  {
   "cell_type": "code",
   "execution_count": 1,
   "id": "75f29f38",
   "metadata": {},
   "outputs": [],
   "source": [
    "import math"
   ]
  },
  {
   "cell_type": "code",
   "execution_count": 2,
   "id": "f56867c1",
   "metadata": {},
   "outputs": [
    {
     "data": {
      "text/plain": [
       "0.9092974268256817"
      ]
     },
     "execution_count": 2,
     "metadata": {},
     "output_type": "execute_result"
    }
   ],
   "source": [
    "math.sin(2)"
   ]
  },
  {
   "cell_type": "code",
   "execution_count": 3,
   "id": "6ee44e6a",
   "metadata": {},
   "outputs": [
    {
     "data": {
      "text/plain": [
       "-0.4161468365471424"
      ]
     },
     "execution_count": 3,
     "metadata": {},
     "output_type": "execute_result"
    }
   ],
   "source": [
    "math.cos(2)"
   ]
  },
  {
   "cell_type": "code",
   "execution_count": 4,
   "id": "f33cccf9",
   "metadata": {},
   "outputs": [
    {
     "name": "stdout",
     "output_type": "stream",
     "text": [
      "['', 'import math', 'math.sin(2)', 'math.cos(2)', 'print(In)']\n"
     ]
    }
   ],
   "source": [
    "print(In)"
   ]
  },
  {
   "cell_type": "code",
   "execution_count": 5,
   "id": "868660e8",
   "metadata": {},
   "outputs": [
    {
     "data": {
      "text/plain": [
       "{2: 0.9092974268256817, 3: -0.4161468365471424}"
      ]
     },
     "execution_count": 5,
     "metadata": {},
     "output_type": "execute_result"
    }
   ],
   "source": [
    "Out"
   ]
  },
  {
   "cell_type": "code",
   "execution_count": 6,
   "id": "4e8eb4c9",
   "metadata": {},
   "outputs": [
    {
     "name": "stdout",
     "output_type": "stream",
     "text": [
      "import math\n"
     ]
    }
   ],
   "source": [
    "## in are a list\n",
    "\n",
    "print(In[1])"
   ]
  },
  {
   "cell_type": "code",
   "execution_count": 7,
   "id": "d6e4b815",
   "metadata": {},
   "outputs": [
    {
     "name": "stdout",
     "output_type": "stream",
     "text": [
      "0.9092974268256817\n"
     ]
    }
   ],
   "source": [
    "print(Out[2])"
   ]
  },
  {
   "cell_type": "code",
   "execution_count": 8,
   "id": "5f3dfbd5",
   "metadata": {},
   "outputs": [
    {
     "data": {
      "text/plain": [
       "1.0"
      ]
     },
     "execution_count": 8,
     "metadata": {},
     "output_type": "execute_result"
    }
   ],
   "source": [
    "Out[2] ** 2 + Out[3] ** 2"
   ]
  },
  {
   "cell_type": "markdown",
   "id": "bccccf0c",
   "metadata": {},
   "source": [
    "# Underscore Shortcuts and Previous Outputs"
   ]
  },
  {
   "cell_type": "code",
   "execution_count": 9,
   "id": "a1e8ac55",
   "metadata": {},
   "outputs": [
    {
     "name": "stdout",
     "output_type": "stream",
     "text": [
      "1.0\n"
     ]
    }
   ],
   "source": [
    "## print(_) returns previous output\n",
    "\n",
    "print(_)"
   ]
  },
  {
   "cell_type": "code",
   "execution_count": 10,
   "id": "7371d25c",
   "metadata": {},
   "outputs": [
    {
     "name": "stdout",
     "output_type": "stream",
     "text": [
      "-0.4161468365471424\n",
      "0.9092974268256817\n"
     ]
    }
   ],
   "source": [
    "## --shows second to last output, --- third to last\n",
    "\n",
    "print(__)\n",
    "print(___)"
   ]
  },
  {
   "cell_type": "code",
   "execution_count": 11,
   "id": "d03a0e04",
   "metadata": {},
   "outputs": [
    {
     "data": {
      "text/plain": [
       "-0.4161468365471424"
      ]
     },
     "execution_count": 11,
     "metadata": {},
     "output_type": "execute_result"
    }
   ],
   "source": [
    "## alternative to Out[X] is _X\n",
    "\n",
    "_3"
   ]
  },
  {
   "cell_type": "markdown",
   "id": "7ebe2379",
   "metadata": {},
   "source": [
    "# Suppressing Output\n",
    "\n",
    "### The easiest way to suppress the output of a command is to add a semicolon to the end of the line:"
   ]
  },
  {
   "cell_type": "code",
   "execution_count": 12,
   "id": "7e8e5336",
   "metadata": {},
   "outputs": [],
   "source": [
    "math.sin(2) + math.cos(2); ## here the result is not displayed nor stored in Out memory"
   ]
  },
  {
   "cell_type": "code",
   "execution_count": 15,
   "id": "ed20a8be",
   "metadata": {},
   "outputs": [
    {
     "data": {
      "text/plain": [
       "False"
      ]
     },
     "execution_count": 15,
     "metadata": {},
     "output_type": "execute_result"
    }
   ],
   "source": [
    "12 in Out ## this is tested here"
   ]
  },
  {
   "cell_type": "markdown",
   "id": "d8f724cd",
   "metadata": {},
   "source": [
    "# Magic command\n",
    "\n",
    "### For accessing a batch of previous inputs at once, the %history magic command is very helpful."
   ]
  },
  {
   "cell_type": "code",
   "execution_count": 16,
   "id": "358f9bbe",
   "metadata": {},
   "outputs": [
    {
     "name": "stdout",
     "output_type": "stream",
     "text": [
      "import math\n",
      "math.sin(2)\n",
      "math.cos(2)\n",
      "print(In)\n",
      "Out\n",
      "## in are a list\n",
      "\n",
      "print(In[1])\n",
      "print(Out[2])\n",
      "Out[2] ** 2 + Out[3] ** 2\n",
      "## print(_) returns previous output\n",
      "\n",
      "print(_)\n",
      "## --shows second to last output, --- third to last\n",
      "\n",
      "print(__)\n",
      "print(___)\n",
      "## alternative to Out[X] is _X\n",
      "\n",
      "_3\n",
      "math.sin(2) + math.cos(2);\n",
      "14 in Out\n",
      "12 in Out ## this is tested here\n",
      "12 in Out ## this is tested here\n",
      "%history\n"
     ]
    }
   ],
   "source": [
    "%history"
   ]
  },
  {
   "cell_type": "code",
   "execution_count": 17,
   "id": "cd38fc5f",
   "metadata": {},
   "outputs": [
    {
     "name": "stdout",
     "output_type": "stream",
     "text": [
      "   1: import math\n",
      "   2: math.sin(2)\n",
      "   3: math.cos(2)\n",
      "   4: print(In)\n"
     ]
    }
   ],
   "source": [
    "%history -n 1-4"
   ]
  },
  {
   "cell_type": "code",
   "execution_count": null,
   "id": "774ea2ac",
   "metadata": {},
   "outputs": [],
   "source": []
  }
 ],
 "metadata": {
  "kernelspec": {
   "display_name": "Python 3 (ipykernel)",
   "language": "python",
   "name": "python3"
  },
  "language_info": {
   "codemirror_mode": {
    "name": "ipython",
    "version": 3
   },
   "file_extension": ".py",
   "mimetype": "text/x-python",
   "name": "python",
   "nbconvert_exporter": "python",
   "pygments_lexer": "ipython3",
   "version": "3.9.7"
  }
 },
 "nbformat": 4,
 "nbformat_minor": 5
}
