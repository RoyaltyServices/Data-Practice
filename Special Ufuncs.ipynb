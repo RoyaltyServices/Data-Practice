{
 "cells": [
  {
   "cell_type": "code",
   "execution_count": 1,
   "id": "eb55b528",
   "metadata": {},
   "outputs": [],
   "source": [
    "import numpy as np"
   ]
  },
  {
   "cell_type": "code",
   "execution_count": 2,
   "id": "38d31d6d",
   "metadata": {},
   "outputs": [],
   "source": [
    "from scipy import special"
   ]
  },
  {
   "cell_type": "code",
   "execution_count": 3,
   "id": "2f6b4584",
   "metadata": {},
   "outputs": [],
   "source": [
    "# Gamma functions (generalized factorials) and related functions\n",
    "\n",
    "x = [1, 5, 10]"
   ]
  },
  {
   "cell_type": "code",
   "execution_count": 4,
   "id": "6377714d",
   "metadata": {},
   "outputs": [
    {
     "name": "stdout",
     "output_type": "stream",
     "text": [
      "gamma(x) = [1.0000e+00 2.4000e+01 3.6288e+05]\n"
     ]
    }
   ],
   "source": [
    "print(\"gamma(x) =\", special.gamma(x))"
   ]
  },
  {
   "cell_type": "code",
   "execution_count": 5,
   "id": "48eece1d",
   "metadata": {},
   "outputs": [
    {
     "name": "stdout",
     "output_type": "stream",
     "text": [
      "ln|gamma(x)| = [ 0.          3.17805383 12.80182748]\n"
     ]
    }
   ],
   "source": [
    "print(\"ln|gamma(x)| =\", special.gammaln(x))"
   ]
  },
  {
   "cell_type": "code",
   "execution_count": 6,
   "id": "f48b0481",
   "metadata": {},
   "outputs": [
    {
     "name": "stdout",
     "output_type": "stream",
     "text": [
      "beta(x, 2) = [0.5        0.03333333 0.00909091]\n"
     ]
    }
   ],
   "source": [
    "print(\"beta(x, 2) =\", special.beta(x, 2))"
   ]
  },
  {
   "cell_type": "code",
   "execution_count": 7,
   "id": "dc192267",
   "metadata": {},
   "outputs": [],
   "source": [
    "# Error function (integral of Gaussian)\n",
    "# its complement, and its inverse\n",
    "\n",
    "x = np.array([0, 0.3, 0.7, 1.0])"
   ]
  },
  {
   "cell_type": "code",
   "execution_count": 8,
   "id": "ec0adb6b",
   "metadata": {},
   "outputs": [
    {
     "name": "stdout",
     "output_type": "stream",
     "text": [
      "erf(x) = [0.         0.32862676 0.67780119 0.84270079]\n",
      "erfc(x) = [1.         0.67137324 0.32219881 0.15729921]\n",
      "erfinv(x) = [0.         0.27246271 0.73286908        inf]\n"
     ]
    }
   ],
   "source": [
    "print(\"erf(x) =\", special.erf(x))\n",
    "print(\"erfc(x) =\", special.erfc(x))\n",
    "print(\"erfinv(x) =\", special.erfinv(x))"
   ]
  },
  {
   "cell_type": "markdown",
   "id": "9820a475",
   "metadata": {},
   "source": [
    "# Advanced Ufunc Features"
   ]
  },
  {
   "cell_type": "markdown",
   "id": "a4a779d2",
   "metadata": {},
   "source": [
    "## Specifying output"
   ]
  },
  {
   "cell_type": "code",
   "execution_count": 9,
   "id": "d0d07548",
   "metadata": {},
   "outputs": [],
   "source": [
    "x = np.arange(5)\n",
    "y = np.empty(5) ## empty array with similar xtics to x"
   ]
  },
  {
   "cell_type": "code",
   "execution_count": 11,
   "id": "491a8091",
   "metadata": {},
   "outputs": [
    {
     "data": {
      "text/plain": [
       "array([0, 1, 2, 3, 4])"
      ]
     },
     "execution_count": 11,
     "metadata": {},
     "output_type": "execute_result"
    }
   ],
   "source": [
    "x"
   ]
  },
  {
   "cell_type": "code",
   "execution_count": 12,
   "id": "6fcbcae2",
   "metadata": {},
   "outputs": [
    {
     "data": {
      "text/plain": [
       "array([-4.58259161e-294,  1.46575171e+294,  2.95219319e+207,\n",
       "       -8.15084784e-311,  0.00000000e+000])"
      ]
     },
     "execution_count": 12,
     "metadata": {},
     "output_type": "execute_result"
    }
   ],
   "source": [
    "y"
   ]
  },
  {
   "cell_type": "code",
   "execution_count": 13,
   "id": "8bcbea71",
   "metadata": {},
   "outputs": [
    {
     "data": {
      "text/plain": [
       "array([ 0., 10., 20., 30., 40.])"
      ]
     },
     "execution_count": 13,
     "metadata": {},
     "output_type": "execute_result"
    }
   ],
   "source": [
    "np.multiply(x, 10, out=y) ## multiply x by 10 and save in y"
   ]
  },
  {
   "cell_type": "code",
   "execution_count": 14,
   "id": "8d8abb7f",
   "metadata": {},
   "outputs": [
    {
     "name": "stdout",
     "output_type": "stream",
     "text": [
      "[ 0. 10. 20. 30. 40.]\n"
     ]
    }
   ],
   "source": [
    "print(y)"
   ]
  },
  {
   "cell_type": "code",
   "execution_count": 15,
   "id": "3fe9b697",
   "metadata": {},
   "outputs": [
    {
     "name": "stdout",
     "output_type": "stream",
     "text": [
      "[ 1.  0.  2.  0.  4.  0.  8.  0. 16.  0.]\n"
     ]
    }
   ],
   "source": [
    "## This can even be used with array views.\n",
    "\n",
    "y = np.zeros(10)\n",
    "np.power(2, x, out=y[::2])\n",
    "print(y)"
   ]
  },
  {
   "cell_type": "markdown",
   "id": "4763a5ab",
   "metadata": {},
   "source": [
    "## Aggregates"
   ]
  },
  {
   "cell_type": "code",
   "execution_count": 16,
   "id": "391d5bee",
   "metadata": {},
   "outputs": [
    {
     "data": {
      "text/plain": [
       "15"
      ]
     },
     "execution_count": 16,
     "metadata": {},
     "output_type": "execute_result"
    }
   ],
   "source": [
    "## A reduce repeatedly applies a\n",
    "## given operation to the elements of an array until only a single result remains.\n",
    "\n",
    "## For example, calling reduce on the add ufunc returns the sum of all elements in the array:\n",
    "\n",
    "x = np.arange(1, 6)\n",
    "np.add.reduce(x) ## add all elements of list x"
   ]
  },
  {
   "cell_type": "code",
   "execution_count": 18,
   "id": "cf7ac45a",
   "metadata": {},
   "outputs": [
    {
     "data": {
      "text/plain": [
       "120"
      ]
     },
     "execution_count": 18,
     "metadata": {},
     "output_type": "execute_result"
    }
   ],
   "source": [
    "## Similarly, calling reduce on the multiply ufunc results in the product of all array elements:\n",
    "\n",
    "np.multiply.reduce(x)"
   ]
  },
  {
   "cell_type": "code",
   "execution_count": 19,
   "id": "df35e6b2",
   "metadata": {},
   "outputs": [
    {
     "data": {
      "text/plain": [
       "array([ 1,  3,  6, 10, 15], dtype=int32)"
      ]
     },
     "execution_count": 19,
     "metadata": {},
     "output_type": "execute_result"
    }
   ],
   "source": [
    "## If we’d like to store all the intermediate results of the computation, we can instead use accumulate:\n",
    "\n",
    "np.add.accumulate(x)"
   ]
  },
  {
   "cell_type": "code",
   "execution_count": 20,
   "id": "fb16fa05",
   "metadata": {},
   "outputs": [
    {
     "data": {
      "text/plain": [
       "array([  1,   2,   6,  24, 120], dtype=int32)"
      ]
     },
     "execution_count": 20,
     "metadata": {},
     "output_type": "execute_result"
    }
   ],
   "source": [
    "np.multiply.accumulate(x)"
   ]
  },
  {
   "cell_type": "markdown",
   "id": "3933c9ae",
   "metadata": {},
   "source": [
    "## Outer products"
   ]
  },
  {
   "cell_type": "code",
   "execution_count": 22,
   "id": "b5161e2f",
   "metadata": {},
   "outputs": [
    {
     "data": {
      "text/plain": [
       "array([1, 2, 3, 4, 5])"
      ]
     },
     "execution_count": 22,
     "metadata": {},
     "output_type": "execute_result"
    }
   ],
   "source": [
    "x = np.arange(1, 6)\n",
    "x"
   ]
  },
  {
   "cell_type": "code",
   "execution_count": 23,
   "id": "cdbdc638",
   "metadata": {},
   "outputs": [
    {
     "data": {
      "text/plain": [
       "array([[ 1,  2,  3,  4,  5],\n",
       "       [ 2,  4,  6,  8, 10],\n",
       "       [ 3,  6,  9, 12, 15],\n",
       "       [ 4,  8, 12, 16, 20],\n",
       "       [ 5, 10, 15, 20, 25]])"
      ]
     },
     "execution_count": 23,
     "metadata": {},
     "output_type": "execute_result"
    }
   ],
   "source": [
    "np.multiply.outer(x,x)"
   ]
  },
  {
   "cell_type": "markdown",
   "id": "cb71aeba",
   "metadata": {},
   "source": [
    "# Aggregations: Min, Max, and Everything in Between"
   ]
  },
  {
   "cell_type": "markdown",
   "id": "f2d9ebed",
   "metadata": {},
   "source": [
    "## Summing the Values in an Array"
   ]
  },
  {
   "cell_type": "code",
   "execution_count": 24,
   "id": "7f1eaad3",
   "metadata": {},
   "outputs": [
    {
     "data": {
      "text/plain": [
       "52.34288594477748"
      ]
     },
     "execution_count": 24,
     "metadata": {},
     "output_type": "execute_result"
    }
   ],
   "source": [
    "L = np.random.random(100)\n",
    "sum(L) ## python functioj"
   ]
  },
  {
   "cell_type": "code",
   "execution_count": 25,
   "id": "96eacc14",
   "metadata": {},
   "outputs": [
    {
     "name": "stdout",
     "output_type": "stream",
     "text": [
      "[0.39869936 0.73378309 0.06160452 0.26082932 0.04686846 0.57954071\n",
      " 0.72639592 0.85363041 0.7201679  0.65973922 0.79653066 0.98565717\n",
      " 0.96049035 0.31926019 0.56544836 0.70515302 0.41725196 0.50479935\n",
      " 0.82121004 0.68355527 0.50297201 0.80499275 0.24387915 0.28270828\n",
      " 0.94846702 0.30286877 0.65382147 0.19651277 0.27593467 0.42229539\n",
      " 0.93480882 0.58170187 0.05613201 0.14263203 0.46103759 0.29000315\n",
      " 0.29276679 0.321902   0.88308568 0.05862608 0.99015755 0.38138348\n",
      " 0.01172685 0.82783014 0.24258156 0.0804878  0.65672046 0.48863225\n",
      " 0.95712078 0.35623077 0.00430565 0.83862759 0.37653012 0.95489184\n",
      " 0.84934685 0.78757743 0.49798744 0.3453279  0.2943328  0.99771389\n",
      " 0.58992545 0.46173763 0.58804454 0.30195883 0.42024332 0.88312537\n",
      " 0.97044502 0.04961252 0.74176651 0.33074158 0.3995566  0.32443121\n",
      " 0.81816882 0.1823629  0.73974915 0.50605097 0.57792736 0.05084052\n",
      " 0.43368094 0.69799797 0.98233767 0.77452521 0.61600985 0.91060756\n",
      " 0.27484871 0.28037051 0.24324952 0.48470593 0.94026872 0.98019802\n",
      " 0.06813533 0.76613623 0.44493767 0.52689807 0.51416027 0.46255431\n",
      " 0.25778428 0.10932059 0.96421588 0.27597766]\n"
     ]
    }
   ],
   "source": [
    "print(L)"
   ]
  },
  {
   "cell_type": "code",
   "execution_count": 26,
   "id": "6e45e1d8",
   "metadata": {},
   "outputs": [
    {
     "data": {
      "text/plain": [
       "52.34288594477747"
      ]
     },
     "execution_count": 26,
     "metadata": {},
     "output_type": "execute_result"
    }
   ],
   "source": [
    "## numpy function\n",
    "\n",
    "np.sum(L)"
   ]
  },
  {
   "cell_type": "code",
   "execution_count": 29,
   "id": "7fa0621e",
   "metadata": {},
   "outputs": [
    {
     "name": "stdout",
     "output_type": "stream",
     "text": [
      "67.6 ms ± 2.37 ms per loop (mean ± std. dev. of 7 runs, 10 loops each)\n"
     ]
    }
   ],
   "source": [
    "## numpy is faster\n",
    "\n",
    "big_array = np.random.rand(1000000)\n",
    "%timeit sum(big_array)"
   ]
  },
  {
   "cell_type": "code",
   "execution_count": 28,
   "id": "9338a23b",
   "metadata": {},
   "outputs": [
    {
     "name": "stdout",
     "output_type": "stream",
     "text": [
      "644 µs ± 57 µs per loop (mean ± std. dev. of 7 runs, 1000 loops each)\n"
     ]
    }
   ],
   "source": [
    "%timeit np.sum(big_array)"
   ]
  },
  {
   "cell_type": "markdown",
   "id": "a62b0c37",
   "metadata": {},
   "source": [
    "## Minimum and Maximum"
   ]
  },
  {
   "cell_type": "code",
   "execution_count": 30,
   "id": "16462233",
   "metadata": {},
   "outputs": [
    {
     "data": {
      "text/plain": [
       "(5.670286538084213e-07, 0.9999995549204489)"
      ]
     },
     "execution_count": 30,
     "metadata": {},
     "output_type": "execute_result"
    }
   ],
   "source": [
    "## Similarly, Python has built-in min and max functions, used to find the minimum value\n",
    "## and maximum value of any given array:\n",
    "\n",
    "min(big_array), max(big_array)"
   ]
  },
  {
   "cell_type": "code",
   "execution_count": 31,
   "id": "ff294ee2",
   "metadata": {},
   "outputs": [
    {
     "data": {
      "text/plain": [
       "(5.670286538084213e-07, 0.9999995549204489)"
      ]
     },
     "execution_count": 31,
     "metadata": {},
     "output_type": "execute_result"
    }
   ],
   "source": [
    "## numpy\n",
    "\n",
    "np.min(big_array), np.max(big_array)"
   ]
  },
  {
   "cell_type": "code",
   "execution_count": 32,
   "id": "7e4c71cd",
   "metadata": {},
   "outputs": [
    {
     "name": "stdout",
     "output_type": "stream",
     "text": [
      "44.6 ms ± 362 µs per loop (mean ± std. dev. of 7 runs, 10 loops each)\n",
      "343 µs ± 3.43 µs per loop (mean ± std. dev. of 7 runs, 1000 loops each)\n"
     ]
    }
   ],
   "source": [
    "## np faster\n",
    "\n",
    "%timeit min(big_array)\n",
    "%timeit np.min(big_array)"
   ]
  },
  {
   "cell_type": "code",
   "execution_count": 33,
   "id": "f87f7301",
   "metadata": {},
   "outputs": [
    {
     "name": "stdout",
     "output_type": "stream",
     "text": [
      "5.670286538084213e-07 0.9999995549204489 500093.69596544077\n"
     ]
    }
   ],
   "source": [
    "## For min, max, sum, and several other NumPy aggregates, a shorter syntax is to use\n",
    "## methods of the array object itself:\n",
    "\n",
    "print(big_array.min(), big_array.max(), big_array.sum())"
   ]
  },
  {
   "cell_type": "markdown",
   "id": "86de3310",
   "metadata": {},
   "source": [
    "## Multidimensional aggregates"
   ]
  },
  {
   "cell_type": "code",
   "execution_count": 34,
   "id": "46de0a46",
   "metadata": {},
   "outputs": [
    {
     "name": "stdout",
     "output_type": "stream",
     "text": [
      "[[0.13692235 0.80205093 0.91431484 0.93357356]\n",
      " [0.61733114 0.26933013 0.79202497 0.29794374]\n",
      " [0.51540868 0.37816522 0.50371774 0.39633606]]\n"
     ]
    }
   ],
   "source": [
    "## 2 dimentional array\n",
    "\n",
    "M = np.random.random((3, 4))\n",
    "print(M)"
   ]
  },
  {
   "cell_type": "code",
   "execution_count": 35,
   "id": "1be0135c",
   "metadata": {},
   "outputs": [
    {
     "data": {
      "text/plain": [
       "6.557119362166494"
      ]
     },
     "execution_count": 35,
     "metadata": {},
     "output_type": "execute_result"
    }
   ],
   "source": [
    "## By default, each NumPy aggregation function will return the aggregate over the entire array:\n",
    "\n",
    "M.sum()"
   ]
  },
  {
   "cell_type": "code",
   "execution_count": 40,
   "id": "6924c1d3",
   "metadata": {},
   "outputs": [
    {
     "name": "stdout",
     "output_type": "stream",
     "text": [
      "min column = [0.13692235 0.26933013 0.50371774 0.29794374]\n",
      "Max column = [0.61733114 0.80205093 0.91431484 0.93357356]\n"
     ]
    }
   ],
   "source": [
    "## we can find the minimum value within each column by specifying axis=0:\n",
    "\n",
    "print(\"min column =\", M.min(axis=0))\n",
    "print(\"Max column =\", M.max(axis=0))"
   ]
  },
  {
   "cell_type": "code",
   "execution_count": 41,
   "id": "7341cec0",
   "metadata": {},
   "outputs": [
    {
     "name": "stdout",
     "output_type": "stream",
     "text": [
      "max row = [0.93357356 0.79202497 0.51540868]\n",
      "Min row = [0.13692235 0.26933013 0.37816522]\n"
     ]
    }
   ],
   "source": [
    "## Similarly, we can find the maximum value within each row:\n",
    "\n",
    "print(\"max row =\", M.max(axis=1))\n",
    "print(\"Min row =\", M.min(axis=1))"
   ]
  },
  {
   "cell_type": "markdown",
   "id": "c19b3b34",
   "metadata": {},
   "source": [
    "## exploring"
   ]
  },
  {
   "cell_type": "code",
   "execution_count": 43,
   "id": "754155b3",
   "metadata": {},
   "outputs": [],
   "source": [
    "import pandas as pd"
   ]
  },
  {
   "cell_type": "code",
   "execution_count": 56,
   "id": "87b14fd5",
   "metadata": {},
   "outputs": [
    {
     "data": {
      "text/html": [
       "<div>\n",
       "<style scoped>\n",
       "    .dataframe tbody tr th:only-of-type {\n",
       "        vertical-align: middle;\n",
       "    }\n",
       "\n",
       "    .dataframe tbody tr th {\n",
       "        vertical-align: top;\n",
       "    }\n",
       "\n",
       "    .dataframe thead th {\n",
       "        text-align: right;\n",
       "    }\n",
       "</style>\n",
       "<table border=\"1\" class=\"dataframe\">\n",
       "  <thead>\n",
       "    <tr style=\"text-align: right;\">\n",
       "      <th></th>\n",
       "      <th>order</th>\n",
       "      <th>name</th>\n",
       "      <th>height(cm)</th>\n",
       "    </tr>\n",
       "  </thead>\n",
       "  <tbody>\n",
       "    <tr>\n",
       "      <th>0</th>\n",
       "      <td>1</td>\n",
       "      <td>George Washington</td>\n",
       "      <td>189</td>\n",
       "    </tr>\n",
       "    <tr>\n",
       "      <th>1</th>\n",
       "      <td>2</td>\n",
       "      <td>John Adams</td>\n",
       "      <td>170</td>\n",
       "    </tr>\n",
       "    <tr>\n",
       "      <th>2</th>\n",
       "      <td>3</td>\n",
       "      <td>Thomas Jefferson</td>\n",
       "      <td>189</td>\n",
       "    </tr>\n",
       "    <tr>\n",
       "      <th>3</th>\n",
       "      <td>4</td>\n",
       "      <td>James Madison</td>\n",
       "      <td>163</td>\n",
       "    </tr>\n",
       "    <tr>\n",
       "      <th>4</th>\n",
       "      <td>5</td>\n",
       "      <td>James Monroe</td>\n",
       "      <td>183</td>\n",
       "    </tr>\n",
       "  </tbody>\n",
       "</table>\n",
       "</div>"
      ],
      "text/plain": [
       "   order               name  height(cm)\n",
       "0      1  George Washington         189\n",
       "1      2         John Adams         170\n",
       "2      3   Thomas Jefferson         189\n",
       "3      4      James Madison         163\n",
       "4      5       James Monroe         183"
      ]
     },
     "execution_count": 56,
     "metadata": {},
     "output_type": "execute_result"
    }
   ],
   "source": [
    "data = pd.read_csv(r'C:\\Users\\RAC\\Desktop\\Data Science\\Data\\president_heights.csv')\n",
    "data.head()"
   ]
  },
  {
   "cell_type": "code",
   "execution_count": 57,
   "id": "95b5474a",
   "metadata": {},
   "outputs": [],
   "source": [
    "heights = np.array(data['height(cm)'])"
   ]
  },
  {
   "cell_type": "code",
   "execution_count": 58,
   "id": "1d2e7d0f",
   "metadata": {},
   "outputs": [
    {
     "name": "stdout",
     "output_type": "stream",
     "text": [
      "[189 170 189 163 183 171 185 168 173 183 173 173 175 178 183 193 178 173\n",
      " 174 183 183 168 170 178 182 180 183 178 182 188 175 179 183 193 182 183\n",
      " 177 185 188 188 182 185]\n"
     ]
    }
   ],
   "source": [
    "print(heights)"
   ]
  },
  {
   "cell_type": "code",
   "execution_count": 59,
   "id": "a8f2b030",
   "metadata": {},
   "outputs": [
    {
     "name": "stdout",
     "output_type": "stream",
     "text": [
      "Mean Height = 179.73809523809524\n"
     ]
    }
   ],
   "source": [
    "print(\"Mean Height =\", heights.mean())"
   ]
  },
  {
   "cell_type": "code",
   "execution_count": 61,
   "id": "849af05e",
   "metadata": {},
   "outputs": [
    {
     "name": "stdout",
     "output_type": "stream",
     "text": [
      "Height Standard Deviation = 6.931843442745892\n"
     ]
    }
   ],
   "source": [
    "print('Height Standard Deviation =', heights.std())"
   ]
  },
  {
   "cell_type": "code",
   "execution_count": 62,
   "id": "662effc8",
   "metadata": {},
   "outputs": [
    {
     "name": "stdout",
     "output_type": "stream",
     "text": [
      "Minimun Height = 163\n"
     ]
    }
   ],
   "source": [
    "print(\"Minimun Height =\", heights.min())"
   ]
  },
  {
   "cell_type": "code",
   "execution_count": 63,
   "id": "b5c7ea91",
   "metadata": {},
   "outputs": [
    {
     "name": "stdout",
     "output_type": "stream",
     "text": [
      "Maximun Height = 193\n"
     ]
    }
   ],
   "source": [
    "print(\"Maximun Height =\", heights.max())"
   ]
  },
  {
   "cell_type": "code",
   "execution_count": null,
   "id": "f345696c",
   "metadata": {},
   "outputs": [],
   "source": []
  }
 ],
 "metadata": {
  "kernelspec": {
   "display_name": "Python 3 (ipykernel)",
   "language": "python",
   "name": "python3"
  },
  "language_info": {
   "codemirror_mode": {
    "name": "ipython",
    "version": 3
   },
   "file_extension": ".py",
   "mimetype": "text/x-python",
   "name": "python",
   "nbconvert_exporter": "python",
   "pygments_lexer": "ipython3",
   "version": "3.9.7"
  }
 },
 "nbformat": 4,
 "nbformat_minor": 5
}
